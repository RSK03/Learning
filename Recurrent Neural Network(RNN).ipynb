{
 "cells": [
  {
   "cell_type": "code",
   "execution_count": 1,
   "id": "b88a2664",
   "metadata": {},
   "outputs": [],
   "source": [
    "#importing the required libraries\n",
    "import numpy as np\n",
    "import matplotlib.pyplot as plt\n",
    "import pandas as pd"
   ]
  },
  {
   "cell_type": "code",
   "execution_count": 2,
   "id": "60c51b23",
   "metadata": {},
   "outputs": [],
   "source": [
    "#importing the training set\n",
    "dataset_train = pd.read_csv('Google_Stock_Price_Train.csv')\n",
    "training_set = dataset_train.iloc[:, 1:2].values"
   ]
  },
  {
   "cell_type": "code",
   "execution_count": 3,
   "id": "5c9c046b",
   "metadata": {},
   "outputs": [],
   "source": [
    "#feature scaling\n",
    "from sklearn.preprocessing import MinMaxScaler\n",
    "sc = MinMaxScaler(feature_range = (0, 1))\n",
    "training_set_scaled = sc.fit_transform(training_set)"
   ]
  },
  {
   "cell_type": "code",
   "execution_count": 4,
   "id": "3fb3ff55",
   "metadata": {},
   "outputs": [],
   "source": [
    "X_train = []\n",
    "y_train = []\n",
    "for i in range (60, 1258):\n",
    "    X_train.append(training_set_scaled[i-60:i, 0])\n",
    "    y_train.append(training_set_scaled[i, 0])\n",
    "X_train, y_train = np.array(X_train), np.array(y_train)\n",
    "\n",
    "#reshapping\n",
    "X_train = np.reshape(X_train, (X_train.shape[0], X_train.shape[1], 1))"
   ]
  },
  {
   "cell_type": "code",
   "execution_count": 5,
   "id": "4383eef8",
   "metadata": {},
   "outputs": [],
   "source": [
    "#importing the keras libraries and packages\n",
    "from keras.models import Sequential\n",
    "from keras.layers import Dense\n",
    "from keras.layers import LSTM\n",
    "from keras.layers import Dropout"
   ]
  },
  {
   "cell_type": "code",
   "execution_count": 6,
   "id": "8966aa4e",
   "metadata": {},
   "outputs": [],
   "source": [
    "# !pip install keras"
   ]
  },
  {
   "cell_type": "code",
   "execution_count": 7,
   "id": "1fdac0be",
   "metadata": {},
   "outputs": [],
   "source": [
    "# !pip install tensorflow"
   ]
  },
  {
   "cell_type": "code",
   "execution_count": 8,
   "id": "2efed6f1",
   "metadata": {},
   "outputs": [],
   "source": [
    "#initialising the RNN\n",
    "regressor = Sequential()"
   ]
  },
  {
   "cell_type": "code",
   "execution_count": 9,
   "id": "ac229710",
   "metadata": {},
   "outputs": [],
   "source": [
    "#adding the first LSTM layer and same dropout regularisation\n",
    "regressor.add(LSTM(units = 50, return_sequences = True, input_shape = (X_train.shape[1], 1)))\n",
    "regressor.add(Dropout(0.2))"
   ]
  },
  {
   "cell_type": "code",
   "execution_count": 10,
   "id": "beb43199",
   "metadata": {},
   "outputs": [],
   "source": [
    "#adding a second LSTM layer and same dropout regularisation\n",
    "regressor.add(LSTM(units = 50, return_sequences = True))\n",
    "regressor.add(Dropout(0.2))"
   ]
  },
  {
   "cell_type": "code",
   "execution_count": 11,
   "id": "913f9969",
   "metadata": {},
   "outputs": [],
   "source": [
    "#adding a third LSTM layer and same dropout regularisation\n",
    "regressor.add(LSTM(units = 50, return_sequences = True))\n",
    "regressor.add(Dropout(0.2))"
   ]
  },
  {
   "cell_type": "code",
   "execution_count": 12,
   "id": "ca236507",
   "metadata": {},
   "outputs": [],
   "source": [
    "#adding a fourth LSTM layer and same dropout regularisation\n",
    "regressor.add(LSTM(units = 50))\n",
    "regressor.add(Dropout(0.2))"
   ]
  },
  {
   "cell_type": "code",
   "execution_count": 13,
   "id": "10c2876b",
   "metadata": {},
   "outputs": [],
   "source": [
    "#Adding the output layer\n",
    "regressor.add(Dense(units = 1))"
   ]
  },
  {
   "cell_type": "code",
   "execution_count": 14,
   "id": "8221eba7",
   "metadata": {},
   "outputs": [],
   "source": [
    "#Compailing the RNN\n",
    "regressor.compile(optimizer = 'adam', loss = 'mean_squared_error')"
   ]
  },
  {
   "cell_type": "code",
   "execution_count": 15,
   "id": "6849eeca",
   "metadata": {},
   "outputs": [
    {
     "name": "stdout",
     "output_type": "stream",
     "text": [
      "Epoch 1/100\n",
      "38/38 [==============================] - 16s 118ms/step - loss: 0.0507\n",
      "Epoch 2/100\n",
      "38/38 [==============================] - 5s 130ms/step - loss: 0.0063\n",
      "Epoch 3/100\n",
      "38/38 [==============================] - 7s 171ms/step - loss: 0.0057\n",
      "Epoch 4/100\n",
      "38/38 [==============================] - 6s 151ms/step - loss: 0.0061\n",
      "Epoch 5/100\n",
      "38/38 [==============================] - 4s 112ms/step - loss: 0.0056\n",
      "Epoch 6/100\n",
      "38/38 [==============================] - 5s 131ms/step - loss: 0.0056\n",
      "Epoch 7/100\n",
      "38/38 [==============================] - 7s 177ms/step - loss: 0.0044\n",
      "Epoch 8/100\n",
      "38/38 [==============================] - 5s 127ms/step - loss: 0.0045\n",
      "Epoch 9/100\n",
      "38/38 [==============================] - 4s 118ms/step - loss: 0.0039\n",
      "Epoch 10/100\n",
      "38/38 [==============================] - 6s 151ms/step - loss: 0.0045\n",
      "Epoch 11/100\n",
      "38/38 [==============================] - 6s 162ms/step - loss: 0.0040\n",
      "Epoch 12/100\n",
      "38/38 [==============================] - 6s 163ms/step - loss: 0.0040\n",
      "Epoch 13/100\n",
      "38/38 [==============================] - 6s 169ms/step - loss: 0.0043\n",
      "Epoch 14/100\n",
      "38/38 [==============================] - 6s 159ms/step - loss: 0.0041\n",
      "Epoch 15/100\n",
      "38/38 [==============================] - 6s 168ms/step - loss: 0.0046\n",
      "Epoch 16/100\n",
      "38/38 [==============================] - 6s 164ms/step - loss: 0.0041\n",
      "Epoch 17/100\n",
      "38/38 [==============================] - 6s 162ms/step - loss: 0.0037\n",
      "Epoch 18/100\n",
      "38/38 [==============================] - 6s 167ms/step - loss: 0.0034\n",
      "Epoch 19/100\n",
      "38/38 [==============================] - 6s 160ms/step - loss: 0.0036\n",
      "Epoch 20/100\n",
      "38/38 [==============================] - 7s 175ms/step - loss: 0.0034\n",
      "Epoch 21/100\n",
      "38/38 [==============================] - 6s 161ms/step - loss: 0.0032\n",
      "Epoch 22/100\n",
      "38/38 [==============================] - 6s 162ms/step - loss: 0.0034\n",
      "Epoch 23/100\n",
      "38/38 [==============================] - 6s 168ms/step - loss: 0.0036\n",
      "Epoch 24/100\n",
      "38/38 [==============================] - 6s 161ms/step - loss: 0.0034\n",
      "Epoch 25/100\n",
      "38/38 [==============================] - 7s 171ms/step - loss: 0.0029\n",
      "Epoch 26/100\n",
      "38/38 [==============================] - 7s 179ms/step - loss: 0.0030\n",
      "Epoch 27/100\n",
      "38/38 [==============================] - 7s 172ms/step - loss: 0.0031\n",
      "Epoch 28/100\n",
      "38/38 [==============================] - 6s 168ms/step - loss: 0.0029\n",
      "Epoch 29/100\n",
      "38/38 [==============================] - 6s 160ms/step - loss: 0.0032\n",
      "Epoch 30/100\n",
      "38/38 [==============================] - 6s 167ms/step - loss: 0.0030\n",
      "Epoch 31/100\n",
      "38/38 [==============================] - 5s 138ms/step - loss: 0.0031\n",
      "Epoch 32/100\n",
      "38/38 [==============================] - 4s 110ms/step - loss: 0.0028\n",
      "Epoch 33/100\n",
      "38/38 [==============================] - 6s 168ms/step - loss: 0.0028\n",
      "Epoch 34/100\n",
      "38/38 [==============================] - 6s 160ms/step - loss: 0.0027\n",
      "Epoch 35/100\n",
      "38/38 [==============================] - 6s 159ms/step - loss: 0.0029\n",
      "Epoch 36/100\n",
      "38/38 [==============================] - 6s 171ms/step - loss: 0.0026\n",
      "Epoch 37/100\n",
      "38/38 [==============================] - 6s 162ms/step - loss: 0.0027\n",
      "Epoch 38/100\n",
      "38/38 [==============================] - 6s 165ms/step - loss: 0.0032\n",
      "Epoch 39/100\n",
      "38/38 [==============================] - 6s 163ms/step - loss: 0.0031\n",
      "Epoch 40/100\n",
      "38/38 [==============================] - 6s 158ms/step - loss: 0.0030\n",
      "Epoch 41/100\n",
      "38/38 [==============================] - 6s 168ms/step - loss: 0.0029\n",
      "Epoch 42/100\n",
      "38/38 [==============================] - 6s 159ms/step - loss: 0.0030\n",
      "Epoch 43/100\n",
      "38/38 [==============================] - 6s 164ms/step - loss: 0.0026\n",
      "Epoch 44/100\n",
      "38/38 [==============================] - 6s 166ms/step - loss: 0.0023\n",
      "Epoch 45/100\n",
      "38/38 [==============================] - 6s 161ms/step - loss: 0.0026\n",
      "Epoch 46/100\n",
      "38/38 [==============================] - 6s 169ms/step - loss: 0.0026\n",
      "Epoch 47/100\n",
      "38/38 [==============================] - 6s 159ms/step - loss: 0.0023\n",
      "Epoch 48/100\n",
      "38/38 [==============================] - 6s 162ms/step - loss: 0.0024\n",
      "Epoch 49/100\n",
      "38/38 [==============================] - 5s 120ms/step - loss: 0.0022\n",
      "Epoch 50/100\n",
      "38/38 [==============================] - 4s 110ms/step - loss: 0.0022\n",
      "Epoch 51/100\n",
      "38/38 [==============================] - 6s 161ms/step - loss: 0.0023\n",
      "Epoch 52/100\n",
      "38/38 [==============================] - 8s 212ms/step - loss: 0.0025\n",
      "Epoch 53/100\n",
      "38/38 [==============================] - 6s 170ms/step - loss: 0.0025\n",
      "Epoch 54/100\n",
      "38/38 [==============================] - 6s 171ms/step - loss: 0.0021\n",
      "Epoch 55/100\n",
      "38/38 [==============================] - 6s 165ms/step - loss: 0.0026\n",
      "Epoch 56/100\n",
      "38/38 [==============================] - 8s 216ms/step - loss: 0.0021\n",
      "Epoch 57/100\n",
      "38/38 [==============================] - 7s 193ms/step - loss: 0.0022\n",
      "Epoch 58/100\n",
      "38/38 [==============================] - 7s 184ms/step - loss: 0.0023\n",
      "Epoch 59/100\n",
      "38/38 [==============================] - 8s 205ms/step - loss: 0.0022\n",
      "Epoch 60/100\n",
      "38/38 [==============================] - 8s 202ms/step - loss: 0.0021\n",
      "Epoch 61/100\n",
      "38/38 [==============================] - 7s 175ms/step - loss: 0.0020\n",
      "Epoch 62/100\n",
      "38/38 [==============================] - 7s 191ms/step - loss: 0.0018\n",
      "Epoch 63/100\n",
      "38/38 [==============================] - 7s 196ms/step - loss: 0.0022\n",
      "Epoch 64/100\n",
      "38/38 [==============================] - 7s 181ms/step - loss: 0.0021\n",
      "Epoch 65/100\n",
      "38/38 [==============================] - 7s 172ms/step - loss: 0.0021\n",
      "Epoch 66/100\n",
      "38/38 [==============================] - 7s 175ms/step - loss: 0.0018\n",
      "Epoch 67/100\n",
      "38/38 [==============================] - 6s 171ms/step - loss: 0.0018\n",
      "Epoch 68/100\n",
      "38/38 [==============================] - 7s 197ms/step - loss: 0.0021\n",
      "Epoch 69/100\n",
      "38/38 [==============================] - 6s 164ms/step - loss: 0.0022\n",
      "Epoch 70/100\n",
      "38/38 [==============================] - 6s 170ms/step - loss: 0.0021\n",
      "Epoch 71/100\n",
      "38/38 [==============================] - 7s 179ms/step - loss: 0.0021\n",
      "Epoch 72/100\n",
      "38/38 [==============================] - 6s 168ms/step - loss: 0.0019\n",
      "Epoch 73/100\n",
      "38/38 [==============================] - 7s 183ms/step - loss: 0.0017\n",
      "Epoch 74/100\n",
      "38/38 [==============================] - 7s 172ms/step - loss: 0.0017\n",
      "Epoch 75/100\n",
      "38/38 [==============================] - 7s 174ms/step - loss: 0.0017 3s - loss: 0.00 - ETA: 2s - loss: 0.00 - ETA: 2\n",
      "Epoch 76/100\n",
      "38/38 [==============================] - 6s 162ms/step - loss: 0.0017\n",
      "Epoch 77/100\n",
      "38/38 [==============================] - 6s 165ms/step - loss: 0.0017\n",
      "Epoch 78/100\n",
      "38/38 [==============================] - 6s 162ms/step - loss: 0.0020\n",
      "Epoch 79/100\n",
      "38/38 [==============================] - 6s 161ms/step - loss: 0.0018\n",
      "Epoch 80/100\n",
      "38/38 [==============================] - 7s 180ms/step - loss: 0.0017\n",
      "Epoch 81/100\n",
      "38/38 [==============================] - 6s 159ms/step - loss: 0.0017\n",
      "Epoch 82/100\n",
      "38/38 [==============================] - 6s 165ms/step - loss: 0.0017\n",
      "Epoch 83/100\n",
      "38/38 [==============================] - 6s 163ms/step - loss: 0.0016\n",
      "Epoch 84/100\n",
      "38/38 [==============================] - 6s 158ms/step - loss: 0.0015\n",
      "Epoch 85/100\n",
      "38/38 [==============================] - 6s 169ms/step - loss: 0.0016\n",
      "Epoch 86/100\n",
      "38/38 [==============================] - 6s 169ms/step - loss: 0.0016\n",
      "Epoch 87/100\n",
      "38/38 [==============================] - 6s 164ms/step - loss: 0.0015\n",
      "Epoch 88/100\n",
      "38/38 [==============================] - 6s 166ms/step - loss: 0.0022\n",
      "Epoch 89/100\n",
      "38/38 [==============================] - 6s 164ms/step - loss: 0.0018\n",
      "Epoch 90/100\n",
      "38/38 [==============================] - 6s 167ms/step - loss: 0.0016\n",
      "Epoch 91/100\n",
      "38/38 [==============================] - 6s 162ms/step - loss: 0.0016\n",
      "Epoch 92/100\n",
      "38/38 [==============================] - 6s 163ms/step - loss: 0.0016\n",
      "Epoch 93/100\n",
      "38/38 [==============================] - 6s 169ms/step - loss: 0.0015\n",
      "Epoch 94/100\n",
      "38/38 [==============================] - 6s 163ms/step - loss: 0.0014\n",
      "Epoch 95/100\n",
      "38/38 [==============================] - 6s 169ms/step - loss: 0.0015\n",
      "Epoch 96/100\n",
      "38/38 [==============================] - 6s 164ms/step - loss: 0.0015\n",
      "Epoch 97/100\n",
      "38/38 [==============================] - 6s 163ms/step - loss: 0.0014\n",
      "Epoch 98/100\n",
      "38/38 [==============================] - 6s 170ms/step - loss: 0.0014\n",
      "Epoch 99/100\n"
     ]
    },
    {
     "name": "stdout",
     "output_type": "stream",
     "text": [
      "38/38 [==============================] - 6s 160ms/step - loss: 0.0017\n",
      "Epoch 100/100\n",
      "38/38 [==============================] - 6s 166ms/step - loss: 0.0013\n"
     ]
    },
    {
     "data": {
      "text/plain": [
       "<keras.callbacks.History at 0x25b20fecaf0>"
      ]
     },
     "execution_count": 15,
     "metadata": {},
     "output_type": "execute_result"
    }
   ],
   "source": [
    "#fitting the RNN to the training set]\n",
    "regressor.fit(X_train, y_train, epochs = 100, batch_size = 32)"
   ]
  },
  {
   "cell_type": "code",
   "execution_count": 16,
   "id": "edfe82a9",
   "metadata": {},
   "outputs": [],
   "source": [
    "#load the real stock price of 2017\n",
    "dataset_test = pd.read_csv('Google_Stock_Price_Train.csv')\n",
    "real_stock_price = dataset_test.iloc[:, 1:2].values"
   ]
  },
  {
   "cell_type": "code",
   "execution_count": 17,
   "id": "de4f9e15",
   "metadata": {},
   "outputs": [],
   "source": [
    "#Getting the predicted stock price of 2017\n",
    "dataset_total = pd.concat((dataset_train['Open'], dataset_test['Open']), axis = 0)\n",
    "inputs = dataset_total[len(dataset_total) - len(dataset_test) - 60:].values\n",
    "inputs = inputs.reshape(-1,1)\n",
    "inputs = sc.transform(inputs)\n",
    "X_test = []\n",
    "for i in range(60, 80):\n",
    "    X_test.append(inputs[i-60:i, 0])\n",
    "X_test = np.array(X_test)\n",
    "X_test = np.reshape(X_test, (X_test.shape[0], X_test.shape[1], 1))\n",
    "predicted_stock_price = regressor.predict(X_test)\n",
    "predicted_stock_price = sc.inverse_transform(predicted_stock_price)"
   ]
  },
  {
   "cell_type": "code",
   "execution_count": 18,
   "id": "91e8b12f",
   "metadata": {},
   "outputs": [
    {
     "data": {
      "image/png": "[encoded data removed]",
      "text/plain": [
       "<Figure size 432x288 with 1 Axes>"
      ]
     },
     "metadata": {
      "needs_background": "light"
     },
     "output_type": "display_data"
    }
   ],
   "source": [
    "#visualising the results\n",
    "plt.plot(real_stock_price, color = 'red', label = \"Real Google Stock price\")\n",
    "plt.plot(predicted_stock_price, color = 'blue', label = 'Predicted Google Stock Price')\n",
    "plt.title('Google Stock Price Prediction')\n",
    "plt.xlabel('Time')\n",
    "plt.ylabel('Google Stock Price')\n",
    "plt.legend()\n",
    "plt.show()"
   ]
  }
 ],
 "metadata": {
  "kernelspec": {
   "display_name": "Python 3",
   "language": "python",
   "name": "python3"
  },
  "language_info": {
   "codemirror_mode": {
    "name": "ipython",
    "version": 3
   },
   "file_extension": ".py",
   "mimetype": "text/x-python",
   "name": "python",
   "nbconvert_exporter": "python",
   "pygments_lexer": "ipython3",
   "version": "3.8.8"
  }
 },
 "nbformat": 4,
 "nbformat_minor": 5
}
